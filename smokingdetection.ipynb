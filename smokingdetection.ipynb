{
 "cells": [
  {
   "cell_type": "markdown",
   "metadata": {},
   "source": [
    "# Smoking Detection using CNN"
   ]
  },
  {
   "cell_type": "markdown",
   "metadata": {},
   "source": [
    "by Florian Rieser, June 2024"
   ]
  },
  {
   "cell_type": "markdown",
   "metadata": {},
   "source": [
    "# Table of Contents\n",
    "1. [Project Goal / Motivation](#1-Project-GoalMotivation)\n",
    "2. [Data Collection](#2-Data-Collection)\n",
    "3. [Training / Fine-tuning of a Self-developed Model](#3-TrainingFine-tuning-of-a-self-developed-model)\n",
    "4. [Interpretation and Validation of Results & Model Performance Measures](#4-Interpretation-and-validation-of-results--model-performance-measure)\n",
    "5. [Apply the Model to Your Own Images](#5-Apply-the-model-to-your-own-images)\n",
    "6. [Real-time Prediction Using a Webcam](#6-Real-time-prediction-using-a-webcam)"
   ]
  },
  {
   "cell_type": "markdown",
   "metadata": {},
   "source": [
    "## 1. Project goal/Motivation"
   ]
  },
  {
   "cell_type": "markdown",
   "metadata": {},
   "source": [
    "The No Smoking signs at gas stations are essential for safety, not just regulatory requirements. The main hazard at these locations is invisible: gasoline vapors. Using a FLIR Optical Gas Imaging camera, these unseen vapors become visible as a highly flammable black cloud that could ignite with minimal provocation. There are various methods to detect smoking, such as smoke detectors, gas sensors (e.g., carbon monoxide and VOC sensors), particulate matter sensors, thermal cameras, acoustic sensors, and chemical sensors. Although effective, these methods can be expensive to implement.\n",
    "\n",
    "This project aims to provide a more affordable solution by utilizing artificial intelligence. By training an artificial neural network to recognize smoking behavior based on pictures of individuals, we can develop an alert system that ensures safety without the need for costly specialized equipment. This model can then be combined with an object detection system to identify individuals and detect smoking, triggering necessary alerts. By leveraging the existing surveillance cameras typically found at gas stations, this AI-based approach offers a cost-effective and efficient way to prevent accidents caused by smoking in restricted areas."
   ]
  },
  {
   "cell_type": "markdown",
   "metadata": {},
   "source": [
    "## 2. Data Collection"
   ]
  },
  {
   "cell_type": "markdown",
   "metadata": {},
   "source": [
    "For this project, we utilized a dataset from Kaggle (https://www.kaggle.com/datasets/sujaykapadnis/smoking), specifically designed for smoker detection. The dataset consists of 1,120 images, equally divided into two classes: 560 images of smokers and 560 images of non-smokers. These images were collected by searching various keywords across multiple search engines, including terms such as cigarette smoking, smoker, person, coughing, taking inhaler, person on the phone, and drinking water. This approach ensured a diverse set of images for each category.\n",
    "\n",
    "To enhance the model's training and introduce a degree of inter-class confusion, the dataset includes versatile images within both classes. The Smoking class features images of individuals smoking from different angles and in various gestures. In contrast, the NotSmoking class contains images of non-smokers performing actions that could resemble smoking, such as drinking water, using an inhaler, holding a mobile phone, or coughing. This careful selection improves the model's ability to accurately differentiate between smokers and non-smokers.\n",
    "\n",
    "All images were preprocessed and resized to a resolution of 250×250 pixels. The dataset was split, with 80% used for training and validation and the remaining 20% for testing. This dataset is a valuable resource for developing deep learning algorithms for automated smoker detection, contributing to environmental sustainability and enhancing surveillance in smart cities.\n",
    "\n",
    "Citation: Khan, Ali (2022), “Smoker Detection Dataset”, Mendeley Data, V1, doi: 10.17632/j45dj8bgfc.1"
   ]
  },
  {
   "cell_type": "markdown",
   "metadata": {},
   "source": [
    "## 3. Training/Fine-tuning of a self-developed model"
   ]
  },
  {
   "cell_type": "code",
   "execution_count": null,
   "metadata": {},
   "outputs": [],
   "source": [
    "import os\n",
    "import tensorflow as tf\n",
    "from tensorflow.keras.preprocessing import image\n",
    "from sklearn.metrics import confusion_matrix, classification_report, roc_auc_score, accuracy_score\n",
    "import seaborn as sns\n",
    "import matplotlib.pyplot as plt\n",
    "import numpy as np\n",
    "from PIL import Image\n",
    "import re"
   ]
  },
  {
   "cell_type": "code",
   "execution_count": null,
   "metadata": {},
   "outputs": [],
   "source": [
    "# Define the paths to the training and validation directories\n",
    "train_dir = 'training_images'\n",
    "validation_dir = 'validation_images'\n",
    "\n",
    "# Define the image size and batch size\n",
    "image_size = (250, 250) # All images will be resized to 250x250\n",
    "batch_size = 32 # Number of images to process at a time\n",
    "num_epochs = 500 # Number of epochs to train the model"
   ]
  },
  {
   "cell_type": "code",
   "execution_count": null,
   "metadata": {},
   "outputs": [],
   "source": [
    "# Function to load images from directory\n",
    "def load_images_from_directory(directory, target_size=(250, 250)):\n",
    "    images = []\n",
    "    labels = []\n",
    "    class_names = sorted(os.listdir(directory))  # Get sorted list of class names\n",
    "    label_to_index = {class_name: i for i, class_name in enumerate(class_names)}  # Map class name to numerical label\n",
    "    for class_name in class_names:\n",
    "        class_dir = os.path.join(directory, class_name)\n",
    "        for filename in os.listdir(class_dir):\n",
    "            image_path = os.path.join(class_dir, filename)\n",
    "            image = Image.open(image_path)\n",
    "            image = image.resize(target_size)\n",
    "            image = np.array(image) / 255.0  # Normalize pixel values\n",
    "            images.append(image)\n",
    "            labels.append(label_to_index[class_name])  # Append numerical label\n",
    "    return np.array(images), np.array(labels), class_names\n",
    "\n",
    "# Load and preprocess the training, validation, and testing datasets\n",
    "train_images, train_labels, train_class_labels = load_images_from_directory(train_dir)\n",
    "validation_images, validation_labels, validation_class_labels = load_images_from_directory(validation_dir)"
   ]
  },
  {
   "cell_type": "code",
   "execution_count": null,
   "metadata": {},
   "outputs": [],
   "source": [
    "# Data augmentation\n",
    "data_augmentation = tf.keras.Sequential([\n",
    "    tf.keras.layers.RandomFlip('horizontal_and_vertical'),\n",
    "    tf.keras.layers.RandomRotation(0.2),\n",
    "])"
   ]
  },
  {
   "cell_type": "code",
   "execution_count": null,
   "metadata": {},
   "outputs": [],
   "source": [
    "# Define the CNN model for binary classification\n",
    "model = tf.keras.Sequential([\n",
    "    tf.keras.Input(shape=(250, 250, 3)),  # Define input shape\n",
    "    data_augmentation, \n",
    "    tf.keras.layers.Conv2D(32, (3, 3), activation='relu'), \n",
    "    tf.keras.layers.MaxPooling2D((2, 2)),\n",
    "    tf.keras.layers.Conv2D(64, (3, 3), activation='relu'), \n",
    "    tf.keras.layers.MaxPooling2D((2, 2)),\n",
    "    tf.keras.layers.Conv2D(128, (3, 3), activation='relu'), \n",
    "    tf.keras.layers.MaxPooling2D((2, 2)),\n",
    "    tf.keras.layers.Conv2D(256, (3, 3), activation='relu'), \n",
    "    tf.keras.layers.MaxPooling2D((2, 2)), \n",
    "    tf.keras.layers.Flatten(), \n",
    "    tf.keras.layers.Dense(256, activation='relu'), \n",
    "    tf.keras.layers.Dropout(0.5),\n",
    "    tf.keras.layers.Dense(128, activation='relu'), \n",
    "    tf.keras.layers.Dropout(0.5),\n",
    "    tf.keras.layers.Dense(64, activation='relu'), \n",
    "    tf.keras.layers.Dropout(0.5),\n",
    "    tf.keras.layers.Dense(32, activation='relu'), \n",
    "    tf.keras.layers.Dense(1, activation='sigmoid') # Use 'sigmoid' for binary classification\n",
    "])"
   ]
  },
  {
   "cell_type": "code",
   "execution_count": null,
   "metadata": {},
   "outputs": [],
   "source": [
    "# Define the optimizer with a specific learning rate\n",
    "optimizer = tf.keras.optimizers.Adam(learning_rate=0.001) \n",
    "\n",
    "# Compile the model with the custom optimizer\n",
    "model.compile(loss=tf.keras.losses.BinaryCrossentropy(from_logits=False),\n",
    "              optimizer=optimizer,\n",
    "              metrics=['accuracy'])"
   ]
  },
  {
   "cell_type": "code",
   "execution_count": null,
   "metadata": {},
   "outputs": [],
   "source": [
    "# If you do not want to train a new model, you don't have to run this cell.\n",
    "\n",
    "# Create a callback to save the model at each epoch\n",
    "checkpoint_dir = 'models/epochs'\n",
    "if not os.path.exists(checkpoint_dir):\n",
    "    os.makedirs(checkpoint_dir)\n",
    "\n",
    "checkpoint_callback = tf.keras.callbacks.ModelCheckpoint(\n",
    "    filepath=os.path.join(checkpoint_dir, 'model_epoch_{epoch}.keras'),\n",
    "    save_freq='epoch')\n",
    "\n",
    "# Early stopping callback\n",
    "early_stopping_cb = tf.keras.callbacks.EarlyStopping(patience=10, restore_best_weights=True)\n",
    "\n",
    "# Train the model\n",
    "history = model.fit(\n",
    "    train_images, train_labels,\n",
    "    batch_size=batch_size,\n",
    "    epochs=num_epochs,\n",
    "    validation_data=(validation_images, validation_labels),\n",
    "    callbacks=[checkpoint_callback, early_stopping_cb]\n",
    ")"
   ]
  },
  {
   "cell_type": "code",
   "execution_count": null,
   "metadata": {},
   "outputs": [],
   "source": [
    "# If you do not want to train a new model, you don't have to run this cell.\n",
    "\n",
    "# Plot training & validation accuracy and loss values\n",
    "plt.figure(figsize=(12, 5))\n",
    "\n",
    "# Plot training & validation accuracy values\n",
    "plt.subplot(1, 2, 1)\n",
    "plt.plot(history.history['accuracy'], label='Train Accuracy')\n",
    "plt.plot(history.history['val_accuracy'], label='Validation Accuracy')\n",
    "plt.title('Model Accuracy')\n",
    "plt.ylabel('Accuracy')\n",
    "plt.xlabel('Epoch')\n",
    "plt.grid(True, which='both', linestyle='--', linewidth=0.5)  # Add gridlines\n",
    "plt.xticks(rotation=45)  # Rotate x-axis labels by 45 degrees\n",
    "plt.legend(loc='upper left')\n",
    "\n",
    "# Plot vertical lines for each epoch\n",
    "for i in range(len(history.history['accuracy'])):\n",
    "    plt.axvline(x=i, color='k', linestyle='--', linewidth=0.5)\n",
    "    \n",
    "# Plot training & validation loss values\n",
    "plt.subplot(1, 2, 2)\n",
    "plt.plot(history.history['loss'], label='Train Loss')\n",
    "plt.plot(history.history['val_loss'], label='Validation Loss')\n",
    "plt.title('Model Loss')\n",
    "plt.ylabel('Loss')\n",
    "plt.xlabel('Epoch')\n",
    "plt.grid(True, which='both', linestyle='--', linewidth=0.5)  # Add gridlines\n",
    "plt.xticks(rotation=45)  # Rotate x-axis labels by 45 degrees\n",
    "plt.legend(loc='upper left')\n",
    "\n",
    "# Plot vertical lines for each epoch\n",
    "for i in range(len(history.history['loss'])):\n",
    "    plt.axvline(x=i, color='k', linestyle='--', linewidth=0.5)\n",
    "\n",
    "plt.tight_layout()\n",
    "plt.show()"
   ]
  },
  {
   "cell_type": "code",
   "execution_count": null,
   "metadata": {},
   "outputs": [],
   "source": [
    "# If you do not want to train a new model, you don't have to run this cell.\n",
    "\n",
    "# Save the model with the incremented version number\n",
    "def get_latest_version_number():\n",
    "    if not os.path.exists('models'):\n",
    "        return 0\n",
    "    model_files = os.listdir('models')\n",
    "    version_numbers = [int(re.search(r'_v(\\d+)\\.keras', filename).group(1)) for filename in model_files if re.search(r'_v(\\d+)\\.keras', filename)]\n",
    "    if version_numbers:\n",
    "        return max(version_numbers)\n",
    "    else:\n",
    "        return 0\n",
    "\n",
    "def save_model_with_version(model):\n",
    "    if not os.path.exists('models'):\n",
    "        os.makedirs('models')  # Create the 'models' folder if it does not exist\n",
    "    latest_version = get_latest_version_number()\n",
    "    version = latest_version + 1\n",
    "    model_path = f'models/smokingdetector_v{version}.keras'\n",
    "    model.save(model_path)\n",
    "    print(f\"Model saved as {model_path}\")\n",
    "\n",
    "# After training, decide at which epoch you want to stop\n",
    "stop_epoch = 37 # Adjust number according to the plot of the training and validation accuracy & loss\n",
    "\n",
    "# Check if the model was trained beyond the desired epoch\n",
    "if len(history.history['loss']) > stop_epoch:\n",
    "    # Save the model of the desired epoch\n",
    "    version_number = get_latest_version_number() + 1\n",
    "    model = tf.keras.models.load_model(f\"models/epochs/model_epoch_{stop_epoch}.keras\")\n",
    "    save_model_with_version(model)"
   ]
  },
  {
   "cell_type": "markdown",
   "metadata": {},
   "source": [
    "## 4. Interpretation and validation of results & model performance measure"
   ]
  },
  {
   "cell_type": "code",
   "execution_count": null,
   "metadata": {},
   "outputs": [],
   "source": [
    "# Evaluate the model on the validation set\n",
    "version = 1 # Change this to the version number of the model you want to evaluate\n",
    "model_path = f'models/smokingdetector_v{version}.keras'\n",
    "model = tf.keras.models.load_model(model_path)\n",
    "\n",
    "loss, accuracy = model.evaluate(validation_images, validation_labels)\n",
    "print(f\"Validation Loss: {loss}\")\n",
    "print(f\"Validation Accuracy: {accuracy}\")\n",
    "\n",
    "# Predict the labels for the validation set\n",
    "predictions = model.predict(validation_images)\n",
    "predicted_labels = (predictions > 0.5).astype(int).flatten()\n",
    "\n",
    "# Calculate and print AUC-ROC\n",
    "auc_roc = roc_auc_score(validation_labels, predictions)\n",
    "print(f\"AUC-ROC: {auc_roc}\")\n",
    "\n",
    "# Calculate the confusion matrix\n",
    "conf_matrix = confusion_matrix(validation_labels, predicted_labels)\n",
    "\n",
    "# Plot the confusion matrix\n",
    "plt.figure(figsize=(8, 6))\n",
    "sns.heatmap(conf_matrix, annot=True, fmt='d', cmap='Blues', xticklabels=['not smoking', 'smoking'], yticklabels=['not smoking', 'smoking'])\n",
    "plt.xlabel('Predicted Label')\n",
    "plt.ylabel('True Label')\n",
    "plt.title('Confusion Matrix')\n",
    "plt.show()\n",
    "\n",
    "# Calculate True Positives (TP), False Positives (FP), False Negatives (FN)\n",
    "TP = np.sum((predicted_labels == 1) & (validation_labels == 1))\n",
    "FP = np.sum((predicted_labels == 1) & (validation_labels == 0))\n",
    "FN = np.sum((predicted_labels == 0) & (validation_labels == 1))\n",
    "\n",
    "# Calculate Precision and Recall\n",
    "precision = TP / (TP + FP)\n",
    "recall = TP / (TP + FN)\n",
    "\n",
    "print(f\"Precision: {precision}\")\n",
    "print(f\"Recall: {recall}\")"
   ]
  },
  {
   "attachments": {
    "image.png": {
     "image/png": "[encoded data removed]"
    }
   },
   "cell_type": "markdown",
   "metadata": {},
   "source": [
    "### Performance metrics of self-trained model:\n",
    "\n",
    "Validation Loss: 0.542220413684845\n",
    "\n",
    "Validation Accuracy: 0.7777777910232544\n",
    "\n",
    "AUC-ROC: 0.8099999999999999\n",
    "\n",
    "Precision: 0.7155172413793104\n",
    "\n",
    "Recall: 0.9222222222222223\n",
    "\n",
    "![image.png](attachment:image.png)\n",
    "\n",
    "### Interpretation and validation based on the performance metrics obtained from model evaluation:\n",
    "\n",
    "Validation Loss: The validation loss of 0.542 indicates that the model's performance during validation is reasonably good. Lower values of validation loss suggest better model performance in terms of minimizing prediction errors on unseen data.\n",
    "\n",
    "Validation Accuracy: With a validation accuracy of approximately 77.78%, the model is capable of correctly classifying instances a significant portion of the time. This suggests that the model has learned meaningful patterns from the training data and can generalize reasonably well to unseen data.\n",
    "\n",
    "AUC-ROC Score: The AUC-ROC score of 0.81 indicates that the model performs well in distinguishing between the classes. A higher AUC-ROC score suggests that the model's predictions are more reliable, with better discrimination between positive and negative instances.\n",
    "\n",
    "Precision: The precision, standing at approximately 71.55%, indicates that when the model predicts a positive outcome, it is accurate about 71.55% of the time. This metric holds particular importance in scenarios where false positives incur significant costs, making achieving a high precision desirable.\n",
    "\n",
    "Recall: With a recall of about 92.22%, the model correctly identifies approximately 92.22% of all actual positive instances. High recall is crucial in situations where missing positive instances could have severe consequences, such as safety risks associated with smoking in restricted areas like gas stations.\n",
    "\n",
    "Considering the scenario of smoking detection, prioritizing high recall is essential for safety reasons. High recall ensures that the model can effectively identify most instances of smoking behavior, reducing the likelihood of safety hazards associated with missed detections. While a lower precision may lead to some false alarms or interventions. Therefore, in this context, achieving a high recall is more important than high precision for ensuring safety."
   ]
  },
  {
   "cell_type": "markdown",
   "metadata": {},
   "source": [
    "### Benchmark of own model \"smokingdetector_v1.keras\" against VGG16\n",
    "\n",
    "VGG16 is a convolutional neural network architecture proposed by Karen Simonyan and Andrew Zisserman from the Visual Geometry Group (VGG) at the University of Oxford. It has been widely used in various computer vision tasks, including image classification, object detection, and image segmentation. It has also served as a benchmark model for evaluating new architectures and techniques in the field of deep learning. That is why I also use VGG16 as a benchmark for my own model \"smokingdetector_v1.keras\"."
   ]
  },
  {
   "cell_type": "code",
   "execution_count": null,
   "metadata": {},
   "outputs": [],
   "source": [
    "from tensorflow.keras.layers import Dense, GlobalAveragePooling2D\n",
    "from tensorflow.keras.models import Model"
   ]
  },
  {
   "cell_type": "code",
   "execution_count": null,
   "metadata": {},
   "outputs": [],
   "source": [
    "# Load a pretrained model for benchmarking (e.g., VGG16)\n",
    "pretrained_model = tf.keras.applications.VGG16(weights='imagenet', include_top=False)"
   ]
  },
  {
   "cell_type": "code",
   "execution_count": null,
   "metadata": {},
   "outputs": [],
   "source": [
    "# Freeze the pretrained layers\n",
    "for layer in pretrained_model.layers:\n",
    "    layer.trainable = False\n",
    "\n",
    "# Add custom classification layers on top of the pretrained model\n",
    "x = GlobalAveragePooling2D()(pretrained_model.output)\n",
    "x = Dense(128, activation='relu')(x)\n",
    "predictions = Dense(1, activation='sigmoid')(x)\n",
    "\n",
    "# Create the combined model\n",
    "model = Model(inputs=pretrained_model.input, outputs=predictions)\n",
    "\n",
    "# Compile the model\n",
    "model.compile(optimizer='adam', loss='binary_crossentropy', metrics=['accuracy'])\n",
    "\n",
    "# Train the model\n",
    "history = model.fit(\n",
    "    train_images, train_labels,\n",
    "    batch_size=batch_size,\n",
    "    epochs=1,\n",
    "    validation_data=(validation_images, validation_labels)\n",
    ")"
   ]
  },
  {
   "cell_type": "code",
   "execution_count": null,
   "metadata": {},
   "outputs": [],
   "source": [
    "# Evaluate the model on the validation set\n",
    "loss, accuracy = model.evaluate(validation_images, validation_labels)\n",
    "print(f\"Validation Loss: {loss}\")\n",
    "print(f\"Validation Accuracy: {accuracy}\")\n",
    "\n",
    "# Predict the labels for the validation set\n",
    "predictions = model.predict(validation_images)\n",
    "predicted_labels = (predictions > 0.5).astype(int).flatten()\n",
    "\n",
    "# Calculate AUC-ROC\n",
    "auc_roc = roc_auc_score(validation_labels, predictions)\n",
    "print(f\"AUC-ROC: {auc_roc}\")\n",
    "\n",
    "# Calculate the confusion matrix\n",
    "conf_matrix = confusion_matrix(validation_labels, predicted_labels)\n",
    "\n",
    "# Plot the confusion matrix\n",
    "plt.figure(figsize=(8, 6))\n",
    "sns.heatmap(conf_matrix, annot=True, fmt='d', cmap='Blues', xticklabels=['not smoking', 'smoking'], yticklabels=['not smoking', 'smoking'])\n",
    "plt.xlabel('Predicted Label')\n",
    "plt.ylabel('True Label')\n",
    "plt.title('Confusion Matrix')\n",
    "plt.show()\n",
    "\n",
    "# Calculate True Positives (TP), False Positives (FP), False Negatives (FN)\n",
    "TP = np.sum((predicted_labels == 1) & (validation_labels == 1))\n",
    "FP = np.sum((predicted_labels == 1) & (validation_labels == 0))\n",
    "FN = np.sum((predicted_labels == 0) & (validation_labels == 1))\n",
    "\n",
    "# Calculate Precision and Recall\n",
    "precision = TP / (TP + FP)\n",
    "recall = TP / (TP + FN)\n",
    "\n",
    "print(f\"Precision: {precision}\")\n",
    "print(f\"Recall: {recall}\")"
   ]
  },
  {
   "attachments": {
    "image.png": {
     "image/png": "[encoded data removed]"
    }
   },
   "cell_type": "markdown",
   "metadata": {},
   "source": [
    "### Performance metrics of VGG16 model:\n",
    "\n",
    "Validation Loss: 0.5493090152740479\n",
    "\n",
    "Validation Accuracy: 0.7611111402511597\n",
    "\n",
    "AUC-ROC: 0.882962962962963\n",
    "\n",
    "Precision: 0.9272727272727272\n",
    "\n",
    "Recall: 0.5666666666666667\n",
    "\n",
    "![image.png](attachment:image.png)\n",
    "\n",
    "### Interpretation and validation based on the performance metrics obtained from model evaluation:\n",
    "\n",
    "Validation Loss: The validation loss of 0.549 indicates that the model's performance during validation is fairly good. Although slightly higher than the self-trained model, it still represents a reasonably low error rate on unseen data.\n",
    "\n",
    "Validation Accuracy: With a validation accuracy of approximately 76.11%, the model correctly classifies instances most of the time. This suggests that the VGG16 model has learned meaningful patterns from the training data and generalizes well to unseen data, although slightly less accurately than the self-trained model.\n",
    "\n",
    "AUC-ROC Score: The AUC-ROC score of 0.883 indicates that the VGG16 model performs excellently in distinguishing between classes. This high AUC-ROC score suggests that the model's predictions are highly reliable, with superior discrimination between positive and negative instances.\n",
    "\n",
    "Precision: The precision, standing at approximately 92.73%, indicates that when the model predicts a positive outcome, it is accurate about 92.73% of the time. This high precision is particularly important in scenarios where false positives incur significant costs, making achieving a high precision highly desirable.\n",
    "\n",
    "Recall: With a recall of about 56.67%, the VGG16 model correctly identifies approximately 56.67% of all actual positive instances. While lower than the self-trained model, this recall rate suggests that some positive instances might be missed.\n",
    "\n",
    "For safety-critical applications like smoking detection in restricted areas, the self-trained model's higher recall is more beneficial despite its lower precision. The VGG16 model's high precision is useful for minimizing false alarms but may not be as effective in ensuring safety due to its lower recall. Since the benchmark model has only be trained for one epoch it is certainly not yet fully fine-tuned. However, overall I am confident that my self-trained model \"smokingdetector_v1.keras\" is quite good when it comes to ensure safety and especially when considering that the dataset only holds 1'120 images. "
   ]
  },
  {
   "cell_type": "markdown",
   "metadata": {},
   "source": [
    "## 5. Apply the model to your own images"
   ]
  },
  {
   "cell_type": "code",
   "execution_count": null,
   "metadata": {},
   "outputs": [],
   "source": [
    "# Evaluate the model on the validation set\n",
    "version = 1 # Replace 1 with the version number of the model you want to use\n",
    "model_path = f'models/smokingdetector_v{version}.keras'\n",
    "model = tf.keras.models.load_model(model_path)\n",
    "\n",
    "# Load and preprocess the image you want to predict\n",
    "image_path = \"path_to_your_image.jpg\"  # Replace \"path_to_your_image.jpg\" with the path to your image\n",
    "image = Image.open(image_path)\n",
    "image = image.resize((250, 250))  # Resize the image to match the input size of the model\n",
    "image = np.array(image) / 255.0  # Normalize pixel values\n",
    "\n",
    "# Make predictions\n",
    "predictions = model.predict(np.expand_dims(image, axis=0))\n",
    "\n",
    "# Interpret predictions\n",
    "if predictions[0][0] > 0.5:\n",
    "    print(\"The model predicts that the image contains smoking behavior.\")\n",
    "else:\n",
    "    print(\"The model predicts that the image does not contain smoking behavior.\")"
   ]
  },
  {
   "cell_type": "markdown",
   "metadata": {},
   "source": [
    "## 6. Real-time prediction using a webcam "
   ]
  },
  {
   "cell_type": "markdown",
   "metadata": {},
   "source": [
    "Part 6 of this script utilizes the trained model to perform real-time smoking behavior detection using a webcam feed. The script loads the pre-trained convolutional neural network (CNN) model trained to classify smoking behavior and integrates it with OpenCV for face detection and prediction visualization.\n",
    "\n",
    "Feel free to adjust the prediction model or other parameters to suit your specific requirements."
   ]
  },
  {
   "cell_type": "code",
   "execution_count": null,
   "metadata": {},
   "outputs": [],
   "source": [
    "import cv2\n",
    "\n",
    "# Load the prediction model\n",
    "def load_prediction_model():\n",
    "    version = 1 # Adjust number to other model if needed\n",
    "    model_path = f'models/smokingdetector_v{version}.keras'\n",
    "    return tf.keras.models.load_model(model_path)\n",
    "\n",
    "prediction_model = load_prediction_model()\n",
    "\n",
    "face_cascade = cv2.CascadeClassifier(cv2.data.haarcascades + 'haarcascade_frontalface_default.xml')\n",
    "\n",
    "def handle_image(frame):\n",
    "    # Convert the frame to grayscale for face detection\n",
    "    gray = cv2.cvtColor(frame, cv2.COLOR_BGR2GRAY)\n",
    "    \n",
    "    # Detect faces in the grayscale frame\n",
    "    faces = face_cascade.detectMultiScale(gray, scaleFactor=1.1, minNeighbors=5, minSize=(30, 30))\n",
    "    \n",
    "    # Iterate over detected faces\n",
    "    for (x, y, w, h) in faces:\n",
    "        # Extract the face region\n",
    "        face_image = frame[y:y+h, x:x+w]\n",
    "        \n",
    "        # Make a prediction for the current face\n",
    "        prediction = make_prediction(face_image)\n",
    "        \n",
    "        # Display the prediction result on the frame\n",
    "        label = f\"Prediction: {prediction}\"\n",
    "        cv2.rectangle(frame, (x, y), (x+w, y+h), (0, 0, 255), 2)\n",
    "        cv2.putText(frame, label, (x, y-10), cv2.FONT_HERSHEY_SIMPLEX, 0.5, (0, 0, 255), 2)\n",
    "    \n",
    "    return frame\n",
    "\n",
    "def make_prediction(face_image):\n",
    "    # Resize the face image to match the input size of the model\n",
    "    resized_image = cv2.resize(face_image, (250, 250))\n",
    "    normalized_image = resized_image / 255.0  # Normalize pixel values\n",
    "    \n",
    "    # Make predictions using the model\n",
    "    predictions = prediction_model.predict(np.expand_dims(normalized_image, axis=0))\n",
    "    \n",
    "    # Interpret predictions\n",
    "    if predictions[0][0] > 0.5:\n",
    "        return \"Smoking\"\n",
    "    else:\n",
    "        return \"Not Smoking\"\n",
    "\n",
    "# Access the webcam and process frames\n",
    "def main():\n",
    "    cap = cv2.VideoCapture(0)\n",
    "\n",
    "    while True:\n",
    "        ret, frame = cap.read()\n",
    "        if not ret:\n",
    "            break\n",
    "\n",
    "        frame = handle_image(frame)\n",
    "\n",
    "        # Display the resulting frame\n",
    "        cv2.imshow('Video', frame)\n",
    "\n",
    "        # Hit 'q' on the keyboard to quit!\n",
    "        if cv2.waitKey(1) & 0xFF == ord('q'):\n",
    "            break\n",
    "\n",
    "    cap.release()\n",
    "    cv2.destroyAllWindows()\n",
    "\n",
    "if __name__ == \"__main__\":\n",
    "    main()"
   ]
  },
  {
   "cell_type": "markdown",
   "metadata": {},
   "source": [
    "You have reached the end of this jupyter notebook. I hope you enjoyed it :)\n",
    "\n",
    "Click [here](#Smoking-Detection-using-CNN) to jump back to the start of this notebook."
   ]
  }
 ],
 "metadata": {
  "kernelspec": {
   "display_name": ".venv",
   "language": "python",
   "name": "python3"
  },
  "language_info": {
   "codemirror_mode": {
    "name": "ipython",
    "version": 3
   },
   "file_extension": ".py",
   "mimetype": "text/x-python",
   "name": "python",
   "nbconvert_exporter": "python",
   "pygments_lexer": "ipython3",
   "version": "3.10.11"
  }
 },
 "nbformat": 4,
 "nbformat_minor": 2
}
